{
 "cells": [
  {
   "cell_type": "code",
   "execution_count": 2,
   "metadata": {},
   "outputs": [],
   "source": [
    "import pandas as pd\n",
    "import os\n",
    "pd.options.mode.chained_assignment = None"
   ]
  },
  {
   "cell_type": "code",
   "execution_count": 3,
   "metadata": {},
   "outputs": [],
   "source": [
    "# function to clean data of data frame\n",
    "def clean_df(df):\n",
    "    try:\n",
    "        df.columns = ['Party', 'Member', 'Accomodation - Wellington',\n",
    "        'Accomodation - Non-Wellington', 'Air Travel', 'Surface Travel',\n",
    "        'VIP Transport', 'Grand Total', 'Inter-Parliamentary Office of the Clerk', 'Quarter Ending']\n",
    "    except:\n",
    "        df.columns = ['Party', 'Member', 'Accomodation - Wellington',\n",
    "        'Accomodation - Non-Wellington', 'Air Travel', 'Surface Travel',\n",
    "        'Grand Total', 'Inter-Parliamentary Office of the Clerk', 'Quarter Ending']\n",
    "        df.insert(6, \"VIP Transport\", \"\")\n",
    "\n",
    "\n",
    "    df['Party'] = df['Party'].fillna(method='ffill')\n",
    "    df = df[df[\"Party\"].str.contains(\"Total|[0-9]\") == False]\n",
    "    df = df[df['Member'].notna()]\n",
    "\n",
    "\n",
    "    df['Member'] = df['Member'].str.replace(' \\([0-9]\\)', '', regex=True)\n",
    "    return df"
   ]
  },
  {
   "cell_type": "code",
   "execution_count": 4,
   "metadata": {},
   "outputs": [],
   "source": [
    "# function to add column with the quarter\n",
    "def append_quarter(filename, df):\n",
    "    if filename.split()[-1][0].isnumeric():\n",
    "        file_quarter = str(filename.split()[-2]+\" \"+filename.split()[-1]).replace('.xlsx', '')\n",
    "    else:\n",
    "        file_quarter = str(filename.split()[-1]+\" \"+filename.split()[0]).replace('.xlsx', '')\n",
    "    df['Quarter Ending'] = file_quarter\n",
    "    return df"
   ]
  },
  {
   "cell_type": "code",
   "execution_count": 11,
   "metadata": {},
   "outputs": [],
   "source": [
    "# Loop through files in Downloads folder, import clean and append to one file\n",
    "\n",
    "final_df = pd.DataFrame([], columns=['Party', 'Member', 'Accomodation - Wellington',\n",
    "    'Accomodation - Non-Wellington', 'Air Travel', 'Surface Travel',\n",
    "    'VIP Transport', 'Grand Total', 'Inter-Parliamentary Office of the Clerk', 'Quarter Ending'])\n",
    "\n",
    "for filename2 in os.listdir(\"Downloads/\"):\n",
    "    if filename2.endswith(\".xlsx\") and filename2.startswith(\"2\"): \n",
    "         df = pd.read_excel ('Downloads/'+filename2, skiprows=2, header=[0,1])\n",
    "         df = append_quarter(filename2, df)\n",
    "         df = clean_df(df)\n",
    "         final_df = pd.concat([df, final_df])\n",
    "    else:\n",
    "        pass\n",
    "\n"
   ]
  },
  {
   "cell_type": "code",
   "execution_count": 12,
   "metadata": {},
   "outputs": [],
   "source": [
    "def insert_comma(string):\n",
    "    string = str(string)\n",
    "    return string[:string.rfind(\" \")] + \",\" + string[string.rfind(\" \"):]\n"
   ]
  },
  {
   "cell_type": "code",
   "execution_count": 13,
   "metadata": {},
   "outputs": [],
   "source": [
    "final_df['Member'] = final_df['Member'].str.replace('*', '', regex=True)\n",
    "final_df['Member'] = final_df['Member'].str.replace('\\\\n', '', regex=True)\n",
    "final_df['Member'] = final_df['Member'].str.strip()\n",
    "final_df['Member'] = final_df['Member'].str.replace('Te Ururoa', 'Te_Ururoa', regex=True)\n",
    "final_df['Member'] = final_df['Member'].str.replace('Kanwaljit ,Singh', 'Kanwaljit Singh', regex=True)\n",
    "final_df['Member'] = final_df['Member'].str.replace('Kanwaljit Singh', 'Kanwaljit_Singh', regex=True)\n",
    "final_df['Member'] = final_df['Member'].str.replace('Julie Anne', 'Julie-Anne', regex=True)\n",
    "final_df['Member'] = final_df['Member'].str.replace('Gharahman', 'Ghahraman', regex=True)\n",
    "final_df['Member'] = final_df['Member'].str.replace(' ,', ',', regex=True)\n",
    "final_df['Member'] = final_df['Member'].str.replace('Anae Neru', 'Anae_Neru', regex=True)\n",
    "final_df['Member'] = final_df['Member'].str.replace('Aupito William', 'Aupito_William', regex=True)\n",
    "final_df['Member'] = final_df['Member'].str.replace('Su\\'a, William', 'Aupito_William', regex=True)\n",
    "final_df['Member'] = final_df['Member'].str.replace('Turei', 'Tūrei', regex=True)\n",
    "final_df['Member'] = final_df['Member'].str.replace('van, de Molen Tim ', 'van de Molen, Tim', regex=True)\n",
    "final_df['Member'] = final_df['Member'].str.replace(',', ', ', regex=True)\n",
    "final_df['Member'] = final_df['Member'].str.replace('  ', ' ', regex=True)\n",
    "final_df['Member'] = final_df['Member'].apply(insert_comma)\n",
    "final_df['Member'] = final_df['Member'].str.replace(',,', ',', regex=True)\n",
    "final_df['Member'] = final_df['Member'].str.replace('Warren-Clarke, Angie', 'Warren-Clark, Angie', regex=True)\n",
    "final_df['Quarter Ending'] = final_df['Quarter Ending'].str.replace('Dec ', 'December ', regex=True)\n",
    "final_df['Party'] = final_df['Party'].str.replace('Te Paati Maori', 'Maori', regex=True)\n",
    "final_df['Party'] = final_df['Party'].str.replace('Maori', 'Te Paati Maori', regex=True)\n",
    "\n"
   ]
  },
  {
   "cell_type": "code",
   "execution_count": 14,
   "metadata": {},
   "outputs": [],
   "source": [
    "str_cols = ['Accomodation - Wellington', 'Accomodation - Non-Wellington', 'Air Travel',\n",
    "'Surface Travel', 'VIP Transport', 'Grand Total',\n",
    "'Inter-Parliamentary Office of the Clerk']\n",
    "\n",
    "final_df[str_cols] = final_df[str_cols].replace('-', 0, regex=True)\n",
    "final_df[str_cols] = final_df[str_cols].replace(' - ', 0, regex=True)\n",
    "final_df[str_cols] = final_df[str_cols].replace('', 0, regex=True)\n",
    "\n"
   ]
  },
  {
   "cell_type": "code",
   "execution_count": 15,
   "metadata": {},
   "outputs": [],
   "source": [
    "# final_df[['Quarter Ending (Month)', 'Quarter Ending (Year)']] = final_df['Quarter Ending'].str.split(' ', 1, expand=True)\n",
    "\n",
    "final_df['Quarter Ending'] = pd.to_datetime(final_df['Quarter Ending'], format='%B %Y').dt.strftime('%Y-%m-%d')\n",
    "\n"
   ]
  },
  {
   "cell_type": "code",
   "execution_count": 16,
   "metadata": {},
   "outputs": [],
   "source": [
    "final_df.to_csv('nz_mp_expenses.csv', index = False)"
   ]
  },
  {
   "cell_type": "code",
   "execution_count": null,
   "metadata": {},
   "outputs": [],
   "source": []
  },
  {
   "cell_type": "code",
   "execution_count": null,
   "metadata": {},
   "outputs": [],
   "source": []
  }
 ],
 "metadata": {
  "interpreter": {
   "hash": "aee8b7b246df8f9039afb4144a1f6fd8d2ca17a180786b69acc140d282b71a49"
  },
  "kernelspec": {
   "display_name": "Python 3.10.4 64-bit",
   "language": "python",
   "name": "python3"
  },
  "language_info": {
   "codemirror_mode": {
    "name": "ipython",
    "version": 3
   },
   "file_extension": ".py",
   "mimetype": "text/x-python",
   "name": "python",
   "nbconvert_exporter": "python",
   "pygments_lexer": "ipython3",
   "version": "3.10.4"
  },
  "orig_nbformat": 4
 },
 "nbformat": 4,
 "nbformat_minor": 2
}
