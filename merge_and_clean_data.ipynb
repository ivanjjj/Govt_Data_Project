{
 "cells": [
  {
   "cell_type": "code",
   "execution_count": 107,
   "metadata": {},
   "outputs": [],
   "source": [
    "import pandas as pd\n",
    "import os"
   ]
  },
  {
   "cell_type": "code",
   "execution_count": 149,
   "metadata": {},
   "outputs": [],
   "source": [
    "\n",
    "\n",
    "def clean_df(df):\n",
    "    try:\n",
    "        df.columns = ['Party', 'Member', 'Accomodation - Wellington',\n",
    "        'Accomodation - Non-Wellington', 'Air Travel', 'Surface Travel',\n",
    "        'VIP Transport', 'Grand Total', 'Inter-Parliamentary Office of the Clerk', 'Quarter Ending']\n",
    "    except:\n",
    "        df.columns = ['Party', 'Member', 'Accomodation - Wellington',\n",
    "        'Accomodation - Non-Wellington', 'Air Travel', 'Surface Travel',\n",
    "        'Grand Total', 'Inter-Parliamentary Office of the Clerk', 'Quarter Ending']\n",
    "        df.insert(6, \"VIP Transport\", \"\")\n",
    "\n",
    "\n",
    "    df['Party'] = df['Party'].fillna(method='ffill')\n",
    "    df = df[df[\"Party\"].str.contains(\"Total|[0-9]\") == False]\n",
    "    df['Member'] = df['Member'].str.replace(' \\([0-9]\\)', '')\n",
    "    return df\n",
    "\n",
    "\n",
    "\n",
    "\n",
    "\n"
   ]
  },
  {
   "cell_type": "code",
   "execution_count": 156,
   "metadata": {},
   "outputs": [],
   "source": [
    "def append_quarter(filename, df):\n",
    "    if filename.split()[-1][0].isnumeric():\n",
    "        file_quarter = str(filename.split()[-2]+\" \"+filename.split()[-1]).replace('.xlsx', '')\n",
    "    else:\n",
    "        file_quarter = str(filename.split()[-1]+\" \"+filename.split()[0]).replace('.xlsx', '')\n",
    "    df['Quarter Ending'] = file_quarter\n",
    "    return df"
   ]
  },
  {
   "cell_type": "code",
   "execution_count": 93,
   "metadata": {},
   "outputs": [],
   "source": [
    "df = append_quarter(filename, df)"
   ]
  },
  {
   "cell_type": "code",
   "execution_count": 157,
   "metadata": {},
   "outputs": [
    {
     "name": "stdout",
     "output_type": "stream",
     "text": [
      "Empty DataFrame\n",
      "Columns: [Party, Member, Accomodation - Wellington, Accomodation - Non-Wellington, Air Travel, Surface Travel, VIP Transport, Grand Total, Inter-Parliamentary Office of the Clerk, Quarter Ending]\n",
      "Index: []\n"
     ]
    }
   ],
   "source": [
    "data = []\n",
    "final_df = pd.DataFrame(data, columns=['Party', 'Member', 'Accomodation - Wellington',\n",
    "    'Accomodation - Non-Wellington', 'Air Travel', 'Surface Travel',\n",
    "    'VIP Transport', 'Grand Total', 'Inter-Parliamentary Office of the Clerk', 'Quarter Ending'])\n",
    "\n",
    "print(final_df)"
   ]
  },
  {
   "cell_type": "code",
   "execution_count": 158,
   "metadata": {},
   "outputs": [
    {
     "name": "stdout",
     "output_type": "stream",
     "text": [
      "2020 Members' expense disclosure from 1 April to 30 June 2020.xlsx\n",
      "2015 Members' expense disclosure from 1 July to 30 September 2015.xlsx\n",
      "2019 Members' expenses disclosure 1 April to 30 June.xlsx\n"
     ]
    },
    {
     "name": "stderr",
     "output_type": "stream",
     "text": [
      "/var/folders/8v/y2_25bgj5j52ndzgmk478vb80000gn/T/ipykernel_734/54068792.py:15: FutureWarning: The default value of regex will change from True to False in a future version.\n",
      "  df['Member'] = df['Member'].str.replace(' \\([0-9]\\)', '')\n",
      "/var/folders/8v/y2_25bgj5j52ndzgmk478vb80000gn/T/ipykernel_734/54068792.py:15: SettingWithCopyWarning: \n",
      "A value is trying to be set on a copy of a slice from a DataFrame.\n",
      "Try using .loc[row_indexer,col_indexer] = value instead\n",
      "\n",
      "See the caveats in the documentation: https://pandas.pydata.org/pandas-docs/stable/user_guide/indexing.html#returning-a-view-versus-a-copy\n",
      "  df['Member'] = df['Member'].str.replace(' \\([0-9]\\)', '')\n",
      "/var/folders/8v/y2_25bgj5j52ndzgmk478vb80000gn/T/ipykernel_734/3793909653.py:7: FutureWarning: The frame.append method is deprecated and will be removed from pandas in a future version. Use pandas.concat instead.\n",
      "  final_df = final_df.append(df)\n",
      "/var/folders/8v/y2_25bgj5j52ndzgmk478vb80000gn/T/ipykernel_734/54068792.py:15: FutureWarning: The default value of regex will change from True to False in a future version.\n",
      "  df['Member'] = df['Member'].str.replace(' \\([0-9]\\)', '')\n",
      "/var/folders/8v/y2_25bgj5j52ndzgmk478vb80000gn/T/ipykernel_734/54068792.py:15: SettingWithCopyWarning: \n",
      "A value is trying to be set on a copy of a slice from a DataFrame.\n",
      "Try using .loc[row_indexer,col_indexer] = value instead\n",
      "\n",
      "See the caveats in the documentation: https://pandas.pydata.org/pandas-docs/stable/user_guide/indexing.html#returning-a-view-versus-a-copy\n",
      "  df['Member'] = df['Member'].str.replace(' \\([0-9]\\)', '')\n",
      "/var/folders/8v/y2_25bgj5j52ndzgmk478vb80000gn/T/ipykernel_734/3793909653.py:7: FutureWarning: The frame.append method is deprecated and will be removed from pandas in a future version. Use pandas.concat instead.\n",
      "  final_df = final_df.append(df)\n",
      "/var/folders/8v/y2_25bgj5j52ndzgmk478vb80000gn/T/ipykernel_734/54068792.py:15: FutureWarning: The default value of regex will change from True to False in a future version.\n",
      "  df['Member'] = df['Member'].str.replace(' \\([0-9]\\)', '')\n",
      "/var/folders/8v/y2_25bgj5j52ndzgmk478vb80000gn/T/ipykernel_734/54068792.py:15: SettingWithCopyWarning: \n",
      "A value is trying to be set on a copy of a slice from a DataFrame.\n",
      "Try using .loc[row_indexer,col_indexer] = value instead\n",
      "\n",
      "See the caveats in the documentation: https://pandas.pydata.org/pandas-docs/stable/user_guide/indexing.html#returning-a-view-versus-a-copy\n",
      "  df['Member'] = df['Member'].str.replace(' \\([0-9]\\)', '')\n",
      "/var/folders/8v/y2_25bgj5j52ndzgmk478vb80000gn/T/ipykernel_734/3793909653.py:7: FutureWarning: The frame.append method is deprecated and will be removed from pandas in a future version. Use pandas.concat instead.\n",
      "  final_df = final_df.append(df)\n",
      "/var/folders/8v/y2_25bgj5j52ndzgmk478vb80000gn/T/ipykernel_734/54068792.py:15: FutureWarning: The default value of regex will change from True to False in a future version.\n",
      "  df['Member'] = df['Member'].str.replace(' \\([0-9]\\)', '')\n",
      "/var/folders/8v/y2_25bgj5j52ndzgmk478vb80000gn/T/ipykernel_734/54068792.py:15: SettingWithCopyWarning: \n",
      "A value is trying to be set on a copy of a slice from a DataFrame.\n",
      "Try using .loc[row_indexer,col_indexer] = value instead\n",
      "\n",
      "See the caveats in the documentation: https://pandas.pydata.org/pandas-docs/stable/user_guide/indexing.html#returning-a-view-versus-a-copy\n",
      "  df['Member'] = df['Member'].str.replace(' \\([0-9]\\)', '')\n",
      "/var/folders/8v/y2_25bgj5j52ndzgmk478vb80000gn/T/ipykernel_734/3793909653.py:7: FutureWarning: The frame.append method is deprecated and will be removed from pandas in a future version. Use pandas.concat instead.\n",
      "  final_df = final_df.append(df)\n"
     ]
    },
    {
     "name": "stdout",
     "output_type": "stream",
     "text": [
      "2017 Members' expense disclosure from 1 April to 30 June 2017.xlsx\n",
      ".DS_Store\n",
      "2019 Members' expenses disclosure 1 January to 31 March.xlsx\n",
      "2016 Members' expense disclosure from 1 July to 30 September 2016.xlsx\n",
      "~$2021 Members' expense disclosure from 1 January to 31 March 2021.xlsx\n",
      "2021 Members' expense disclosure from 1 January to 31 March 2021.xlsx\n"
     ]
    },
    {
     "name": "stderr",
     "output_type": "stream",
     "text": [
      "/var/folders/8v/y2_25bgj5j52ndzgmk478vb80000gn/T/ipykernel_734/54068792.py:15: FutureWarning: The default value of regex will change from True to False in a future version.\n",
      "  df['Member'] = df['Member'].str.replace(' \\([0-9]\\)', '')\n",
      "/var/folders/8v/y2_25bgj5j52ndzgmk478vb80000gn/T/ipykernel_734/54068792.py:15: SettingWithCopyWarning: \n",
      "A value is trying to be set on a copy of a slice from a DataFrame.\n",
      "Try using .loc[row_indexer,col_indexer] = value instead\n",
      "\n",
      "See the caveats in the documentation: https://pandas.pydata.org/pandas-docs/stable/user_guide/indexing.html#returning-a-view-versus-a-copy\n",
      "  df['Member'] = df['Member'].str.replace(' \\([0-9]\\)', '')\n",
      "/var/folders/8v/y2_25bgj5j52ndzgmk478vb80000gn/T/ipykernel_734/3793909653.py:7: FutureWarning: The frame.append method is deprecated and will be removed from pandas in a future version. Use pandas.concat instead.\n",
      "  final_df = final_df.append(df)\n",
      "/var/folders/8v/y2_25bgj5j52ndzgmk478vb80000gn/T/ipykernel_734/54068792.py:15: FutureWarning: The default value of regex will change from True to False in a future version.\n",
      "  df['Member'] = df['Member'].str.replace(' \\([0-9]\\)', '')\n",
      "/var/folders/8v/y2_25bgj5j52ndzgmk478vb80000gn/T/ipykernel_734/54068792.py:15: SettingWithCopyWarning: \n",
      "A value is trying to be set on a copy of a slice from a DataFrame.\n",
      "Try using .loc[row_indexer,col_indexer] = value instead\n",
      "\n",
      "See the caveats in the documentation: https://pandas.pydata.org/pandas-docs/stable/user_guide/indexing.html#returning-a-view-versus-a-copy\n",
      "  df['Member'] = df['Member'].str.replace(' \\([0-9]\\)', '')\n",
      "/var/folders/8v/y2_25bgj5j52ndzgmk478vb80000gn/T/ipykernel_734/3793909653.py:7: FutureWarning: The frame.append method is deprecated and will be removed from pandas in a future version. Use pandas.concat instead.\n",
      "  final_df = final_df.append(df)\n",
      "/var/folders/8v/y2_25bgj5j52ndzgmk478vb80000gn/T/ipykernel_734/54068792.py:15: FutureWarning: The default value of regex will change from True to False in a future version.\n",
      "  df['Member'] = df['Member'].str.replace(' \\([0-9]\\)', '')\n",
      "/var/folders/8v/y2_25bgj5j52ndzgmk478vb80000gn/T/ipykernel_734/54068792.py:15: SettingWithCopyWarning: \n",
      "A value is trying to be set on a copy of a slice from a DataFrame.\n",
      "Try using .loc[row_indexer,col_indexer] = value instead\n",
      "\n",
      "See the caveats in the documentation: https://pandas.pydata.org/pandas-docs/stable/user_guide/indexing.html#returning-a-view-versus-a-copy\n",
      "  df['Member'] = df['Member'].str.replace(' \\([0-9]\\)', '')\n",
      "/var/folders/8v/y2_25bgj5j52ndzgmk478vb80000gn/T/ipykernel_734/3793909653.py:7: FutureWarning: The frame.append method is deprecated and will be removed from pandas in a future version. Use pandas.concat instead.\n",
      "  final_df = final_df.append(df)\n",
      "/var/folders/8v/y2_25bgj5j52ndzgmk478vb80000gn/T/ipykernel_734/54068792.py:15: FutureWarning: The default value of regex will change from True to False in a future version.\n",
      "  df['Member'] = df['Member'].str.replace(' \\([0-9]\\)', '')\n",
      "/var/folders/8v/y2_25bgj5j52ndzgmk478vb80000gn/T/ipykernel_734/54068792.py:15: SettingWithCopyWarning: \n",
      "A value is trying to be set on a copy of a slice from a DataFrame.\n",
      "Try using .loc[row_indexer,col_indexer] = value instead\n",
      "\n",
      "See the caveats in the documentation: https://pandas.pydata.org/pandas-docs/stable/user_guide/indexing.html#returning-a-view-versus-a-copy\n",
      "  df['Member'] = df['Member'].str.replace(' \\([0-9]\\)', '')\n",
      "/var/folders/8v/y2_25bgj5j52ndzgmk478vb80000gn/T/ipykernel_734/3793909653.py:7: FutureWarning: The frame.append method is deprecated and will be removed from pandas in a future version. Use pandas.concat instead.\n",
      "  final_df = final_df.append(df)\n"
     ]
    },
    {
     "name": "stdout",
     "output_type": "stream",
     "text": [
      "2020 Members' expense disclosures from 1 October to 31 December.xlsx\n",
      "2018 Members' expense disclosure from 1 July to 30 September 2018.xlsx\n",
      "2019 Members' expense disclosure 1 July to 30 September.xlsx\n",
      "2020 Members' expense disclosure from 1 July to 30 September.xlsx\n"
     ]
    },
    {
     "name": "stderr",
     "output_type": "stream",
     "text": [
      "/var/folders/8v/y2_25bgj5j52ndzgmk478vb80000gn/T/ipykernel_734/54068792.py:15: FutureWarning: The default value of regex will change from True to False in a future version.\n",
      "  df['Member'] = df['Member'].str.replace(' \\([0-9]\\)', '')\n",
      "/var/folders/8v/y2_25bgj5j52ndzgmk478vb80000gn/T/ipykernel_734/54068792.py:15: SettingWithCopyWarning: \n",
      "A value is trying to be set on a copy of a slice from a DataFrame.\n",
      "Try using .loc[row_indexer,col_indexer] = value instead\n",
      "\n",
      "See the caveats in the documentation: https://pandas.pydata.org/pandas-docs/stable/user_guide/indexing.html#returning-a-view-versus-a-copy\n",
      "  df['Member'] = df['Member'].str.replace(' \\([0-9]\\)', '')\n",
      "/var/folders/8v/y2_25bgj5j52ndzgmk478vb80000gn/T/ipykernel_734/3793909653.py:7: FutureWarning: The frame.append method is deprecated and will be removed from pandas in a future version. Use pandas.concat instead.\n",
      "  final_df = final_df.append(df)\n",
      "/var/folders/8v/y2_25bgj5j52ndzgmk478vb80000gn/T/ipykernel_734/54068792.py:15: FutureWarning: The default value of regex will change from True to False in a future version.\n",
      "  df['Member'] = df['Member'].str.replace(' \\([0-9]\\)', '')\n",
      "/var/folders/8v/y2_25bgj5j52ndzgmk478vb80000gn/T/ipykernel_734/54068792.py:15: SettingWithCopyWarning: \n",
      "A value is trying to be set on a copy of a slice from a DataFrame.\n",
      "Try using .loc[row_indexer,col_indexer] = value instead\n",
      "\n",
      "See the caveats in the documentation: https://pandas.pydata.org/pandas-docs/stable/user_guide/indexing.html#returning-a-view-versus-a-copy\n",
      "  df['Member'] = df['Member'].str.replace(' \\([0-9]\\)', '')\n",
      "/var/folders/8v/y2_25bgj5j52ndzgmk478vb80000gn/T/ipykernel_734/3793909653.py:7: FutureWarning: The frame.append method is deprecated and will be removed from pandas in a future version. Use pandas.concat instead.\n",
      "  final_df = final_df.append(df)\n",
      "/var/folders/8v/y2_25bgj5j52ndzgmk478vb80000gn/T/ipykernel_734/54068792.py:15: FutureWarning: The default value of regex will change from True to False in a future version.\n",
      "  df['Member'] = df['Member'].str.replace(' \\([0-9]\\)', '')\n",
      "/var/folders/8v/y2_25bgj5j52ndzgmk478vb80000gn/T/ipykernel_734/54068792.py:15: SettingWithCopyWarning: \n",
      "A value is trying to be set on a copy of a slice from a DataFrame.\n",
      "Try using .loc[row_indexer,col_indexer] = value instead\n",
      "\n",
      "See the caveats in the documentation: https://pandas.pydata.org/pandas-docs/stable/user_guide/indexing.html#returning-a-view-versus-a-copy\n",
      "  df['Member'] = df['Member'].str.replace(' \\([0-9]\\)', '')\n",
      "/var/folders/8v/y2_25bgj5j52ndzgmk478vb80000gn/T/ipykernel_734/3793909653.py:7: FutureWarning: The frame.append method is deprecated and will be removed from pandas in a future version. Use pandas.concat instead.\n",
      "  final_df = final_df.append(df)\n",
      "/var/folders/8v/y2_25bgj5j52ndzgmk478vb80000gn/T/ipykernel_734/54068792.py:15: FutureWarning: The default value of regex will change from True to False in a future version.\n",
      "  df['Member'] = df['Member'].str.replace(' \\([0-9]\\)', '')\n",
      "/var/folders/8v/y2_25bgj5j52ndzgmk478vb80000gn/T/ipykernel_734/54068792.py:15: SettingWithCopyWarning: \n",
      "A value is trying to be set on a copy of a slice from a DataFrame.\n",
      "Try using .loc[row_indexer,col_indexer] = value instead\n",
      "\n",
      "See the caveats in the documentation: https://pandas.pydata.org/pandas-docs/stable/user_guide/indexing.html#returning-a-view-versus-a-copy\n",
      "  df['Member'] = df['Member'].str.replace(' \\([0-9]\\)', '')\n",
      "/var/folders/8v/y2_25bgj5j52ndzgmk478vb80000gn/T/ipykernel_734/3793909653.py:7: FutureWarning: The frame.append method is deprecated and will be removed from pandas in a future version. Use pandas.concat instead.\n",
      "  final_df = final_df.append(df)\n"
     ]
    },
    {
     "name": "stdout",
     "output_type": "stream",
     "text": [
      "2018 Members' expense disclosure from 1 October to 31 December 2018.xlsx\n",
      "2021 Members' expense disclosure from 1 April to 30 June 2021.xlsx\n",
      "2021 Members' expense disclosure from 1 Oct to 30 Dec 2021.xlsx\n",
      "2015 Members' expense disclosure from 1 October to 31 December 2015.xlsx\n"
     ]
    },
    {
     "name": "stderr",
     "output_type": "stream",
     "text": [
      "/var/folders/8v/y2_25bgj5j52ndzgmk478vb80000gn/T/ipykernel_734/54068792.py:15: FutureWarning: The default value of regex will change from True to False in a future version.\n",
      "  df['Member'] = df['Member'].str.replace(' \\([0-9]\\)', '')\n",
      "/var/folders/8v/y2_25bgj5j52ndzgmk478vb80000gn/T/ipykernel_734/54068792.py:15: SettingWithCopyWarning: \n",
      "A value is trying to be set on a copy of a slice from a DataFrame.\n",
      "Try using .loc[row_indexer,col_indexer] = value instead\n",
      "\n",
      "See the caveats in the documentation: https://pandas.pydata.org/pandas-docs/stable/user_guide/indexing.html#returning-a-view-versus-a-copy\n",
      "  df['Member'] = df['Member'].str.replace(' \\([0-9]\\)', '')\n",
      "/var/folders/8v/y2_25bgj5j52ndzgmk478vb80000gn/T/ipykernel_734/3793909653.py:7: FutureWarning: The frame.append method is deprecated and will be removed from pandas in a future version. Use pandas.concat instead.\n",
      "  final_df = final_df.append(df)\n",
      "/var/folders/8v/y2_25bgj5j52ndzgmk478vb80000gn/T/ipykernel_734/54068792.py:15: FutureWarning: The default value of regex will change from True to False in a future version.\n",
      "  df['Member'] = df['Member'].str.replace(' \\([0-9]\\)', '')\n",
      "/var/folders/8v/y2_25bgj5j52ndzgmk478vb80000gn/T/ipykernel_734/54068792.py:15: SettingWithCopyWarning: \n",
      "A value is trying to be set on a copy of a slice from a DataFrame.\n",
      "Try using .loc[row_indexer,col_indexer] = value instead\n",
      "\n",
      "See the caveats in the documentation: https://pandas.pydata.org/pandas-docs/stable/user_guide/indexing.html#returning-a-view-versus-a-copy\n",
      "  df['Member'] = df['Member'].str.replace(' \\([0-9]\\)', '')\n",
      "/var/folders/8v/y2_25bgj5j52ndzgmk478vb80000gn/T/ipykernel_734/3793909653.py:7: FutureWarning: The frame.append method is deprecated and will be removed from pandas in a future version. Use pandas.concat instead.\n",
      "  final_df = final_df.append(df)\n",
      "/var/folders/8v/y2_25bgj5j52ndzgmk478vb80000gn/T/ipykernel_734/54068792.py:15: FutureWarning: The default value of regex will change from True to False in a future version.\n",
      "  df['Member'] = df['Member'].str.replace(' \\([0-9]\\)', '')\n",
      "/var/folders/8v/y2_25bgj5j52ndzgmk478vb80000gn/T/ipykernel_734/54068792.py:15: SettingWithCopyWarning: \n",
      "A value is trying to be set on a copy of a slice from a DataFrame.\n",
      "Try using .loc[row_indexer,col_indexer] = value instead\n",
      "\n",
      "See the caveats in the documentation: https://pandas.pydata.org/pandas-docs/stable/user_guide/indexing.html#returning-a-view-versus-a-copy\n",
      "  df['Member'] = df['Member'].str.replace(' \\([0-9]\\)', '')\n",
      "/var/folders/8v/y2_25bgj5j52ndzgmk478vb80000gn/T/ipykernel_734/3793909653.py:7: FutureWarning: The frame.append method is deprecated and will be removed from pandas in a future version. Use pandas.concat instead.\n",
      "  final_df = final_df.append(df)\n",
      "/var/folders/8v/y2_25bgj5j52ndzgmk478vb80000gn/T/ipykernel_734/54068792.py:15: FutureWarning: The default value of regex will change from True to False in a future version.\n",
      "  df['Member'] = df['Member'].str.replace(' \\([0-9]\\)', '')\n",
      "/var/folders/8v/y2_25bgj5j52ndzgmk478vb80000gn/T/ipykernel_734/54068792.py:15: SettingWithCopyWarning: \n",
      "A value is trying to be set on a copy of a slice from a DataFrame.\n",
      "Try using .loc[row_indexer,col_indexer] = value instead\n",
      "\n",
      "See the caveats in the documentation: https://pandas.pydata.org/pandas-docs/stable/user_guide/indexing.html#returning-a-view-versus-a-copy\n",
      "  df['Member'] = df['Member'].str.replace(' \\([0-9]\\)', '')\n",
      "/var/folders/8v/y2_25bgj5j52ndzgmk478vb80000gn/T/ipykernel_734/3793909653.py:7: FutureWarning: The frame.append method is deprecated and will be removed from pandas in a future version. Use pandas.concat instead.\n",
      "  final_df = final_df.append(df)\n",
      "/var/folders/8v/y2_25bgj5j52ndzgmk478vb80000gn/T/ipykernel_734/54068792.py:15: FutureWarning: The default value of regex will change from True to False in a future version.\n",
      "  df['Member'] = df['Member'].str.replace(' \\([0-9]\\)', '')\n"
     ]
    },
    {
     "name": "stdout",
     "output_type": "stream",
     "text": [
      "2016 Members' expense disclosure from 1 April to 30 June 2016.xlsx\n",
      "2019 Members' expense disclosure from 1 October to 31 December.xlsx\n",
      "2018 Members' expense disclosure from 1 January to 31 March 2018.xlsx\n",
      "2020 Members' expense disclosure from 1 January to 31 March.xlsx\n"
     ]
    },
    {
     "name": "stderr",
     "output_type": "stream",
     "text": [
      "/var/folders/8v/y2_25bgj5j52ndzgmk478vb80000gn/T/ipykernel_734/54068792.py:15: SettingWithCopyWarning: \n",
      "A value is trying to be set on a copy of a slice from a DataFrame.\n",
      "Try using .loc[row_indexer,col_indexer] = value instead\n",
      "\n",
      "See the caveats in the documentation: https://pandas.pydata.org/pandas-docs/stable/user_guide/indexing.html#returning-a-view-versus-a-copy\n",
      "  df['Member'] = df['Member'].str.replace(' \\([0-9]\\)', '')\n",
      "/var/folders/8v/y2_25bgj5j52ndzgmk478vb80000gn/T/ipykernel_734/3793909653.py:7: FutureWarning: The frame.append method is deprecated and will be removed from pandas in a future version. Use pandas.concat instead.\n",
      "  final_df = final_df.append(df)\n",
      "/var/folders/8v/y2_25bgj5j52ndzgmk478vb80000gn/T/ipykernel_734/54068792.py:15: FutureWarning: The default value of regex will change from True to False in a future version.\n",
      "  df['Member'] = df['Member'].str.replace(' \\([0-9]\\)', '')\n",
      "/var/folders/8v/y2_25bgj5j52ndzgmk478vb80000gn/T/ipykernel_734/54068792.py:15: SettingWithCopyWarning: \n",
      "A value is trying to be set on a copy of a slice from a DataFrame.\n",
      "Try using .loc[row_indexer,col_indexer] = value instead\n",
      "\n",
      "See the caveats in the documentation: https://pandas.pydata.org/pandas-docs/stable/user_guide/indexing.html#returning-a-view-versus-a-copy\n",
      "  df['Member'] = df['Member'].str.replace(' \\([0-9]\\)', '')\n",
      "/var/folders/8v/y2_25bgj5j52ndzgmk478vb80000gn/T/ipykernel_734/3793909653.py:7: FutureWarning: The frame.append method is deprecated and will be removed from pandas in a future version. Use pandas.concat instead.\n",
      "  final_df = final_df.append(df)\n",
      "/var/folders/8v/y2_25bgj5j52ndzgmk478vb80000gn/T/ipykernel_734/54068792.py:15: FutureWarning: The default value of regex will change from True to False in a future version.\n",
      "  df['Member'] = df['Member'].str.replace(' \\([0-9]\\)', '')\n",
      "/var/folders/8v/y2_25bgj5j52ndzgmk478vb80000gn/T/ipykernel_734/54068792.py:15: SettingWithCopyWarning: \n",
      "A value is trying to be set on a copy of a slice from a DataFrame.\n",
      "Try using .loc[row_indexer,col_indexer] = value instead\n",
      "\n",
      "See the caveats in the documentation: https://pandas.pydata.org/pandas-docs/stable/user_guide/indexing.html#returning-a-view-versus-a-copy\n",
      "  df['Member'] = df['Member'].str.replace(' \\([0-9]\\)', '')\n",
      "/var/folders/8v/y2_25bgj5j52ndzgmk478vb80000gn/T/ipykernel_734/3793909653.py:7: FutureWarning: The frame.append method is deprecated and will be removed from pandas in a future version. Use pandas.concat instead.\n",
      "  final_df = final_df.append(df)\n",
      "/var/folders/8v/y2_25bgj5j52ndzgmk478vb80000gn/T/ipykernel_734/54068792.py:15: FutureWarning: The default value of regex will change from True to False in a future version.\n",
      "  df['Member'] = df['Member'].str.replace(' \\([0-9]\\)', '')\n",
      "/var/folders/8v/y2_25bgj5j52ndzgmk478vb80000gn/T/ipykernel_734/54068792.py:15: SettingWithCopyWarning: \n",
      "A value is trying to be set on a copy of a slice from a DataFrame.\n",
      "Try using .loc[row_indexer,col_indexer] = value instead\n",
      "\n",
      "See the caveats in the documentation: https://pandas.pydata.org/pandas-docs/stable/user_guide/indexing.html#returning-a-view-versus-a-copy\n",
      "  df['Member'] = df['Member'].str.replace(' \\([0-9]\\)', '')\n",
      "/var/folders/8v/y2_25bgj5j52ndzgmk478vb80000gn/T/ipykernel_734/3793909653.py:7: FutureWarning: The frame.append method is deprecated and will be removed from pandas in a future version. Use pandas.concat instead.\n",
      "  final_df = final_df.append(df)\n",
      "/var/folders/8v/y2_25bgj5j52ndzgmk478vb80000gn/T/ipykernel_734/54068792.py:15: FutureWarning: The default value of regex will change from True to False in a future version.\n",
      "  df['Member'] = df['Member'].str.replace(' \\([0-9]\\)', '')\n",
      "/var/folders/8v/y2_25bgj5j52ndzgmk478vb80000gn/T/ipykernel_734/54068792.py:15: SettingWithCopyWarning: \n",
      "A value is trying to be set on a copy of a slice from a DataFrame.\n",
      "Try using .loc[row_indexer,col_indexer] = value instead\n",
      "\n",
      "See the caveats in the documentation: https://pandas.pydata.org/pandas-docs/stable/user_guide/indexing.html#returning-a-view-versus-a-copy\n",
      "  df['Member'] = df['Member'].str.replace(' \\([0-9]\\)', '')\n",
      "/var/folders/8v/y2_25bgj5j52ndzgmk478vb80000gn/T/ipykernel_734/3793909653.py:7: FutureWarning: The frame.append method is deprecated and will be removed from pandas in a future version. Use pandas.concat instead.\n",
      "  final_df = final_df.append(df)\n",
      "/var/folders/8v/y2_25bgj5j52ndzgmk478vb80000gn/T/ipykernel_734/54068792.py:15: FutureWarning: The default value of regex will change from True to False in a future version.\n",
      "  df['Member'] = df['Member'].str.replace(' \\([0-9]\\)', '')\n",
      "/var/folders/8v/y2_25bgj5j52ndzgmk478vb80000gn/T/ipykernel_734/54068792.py:15: SettingWithCopyWarning: \n",
      "A value is trying to be set on a copy of a slice from a DataFrame.\n",
      "Try using .loc[row_indexer,col_indexer] = value instead\n",
      "\n",
      "See the caveats in the documentation: https://pandas.pydata.org/pandas-docs/stable/user_guide/indexing.html#returning-a-view-versus-a-copy\n",
      "  df['Member'] = df['Member'].str.replace(' \\([0-9]\\)', '')\n",
      "/var/folders/8v/y2_25bgj5j52ndzgmk478vb80000gn/T/ipykernel_734/3793909653.py:7: FutureWarning: The frame.append method is deprecated and will be removed from pandas in a future version. Use pandas.concat instead.\n",
      "  final_df = final_df.append(df)\n",
      "/var/folders/8v/y2_25bgj5j52ndzgmk478vb80000gn/T/ipykernel_734/54068792.py:15: FutureWarning: The default value of regex will change from True to False in a future version.\n",
      "  df['Member'] = df['Member'].str.replace(' \\([0-9]\\)', '')\n",
      "/var/folders/8v/y2_25bgj5j52ndzgmk478vb80000gn/T/ipykernel_734/54068792.py:15: SettingWithCopyWarning: \n",
      "A value is trying to be set on a copy of a slice from a DataFrame.\n",
      "Try using .loc[row_indexer,col_indexer] = value instead\n",
      "\n",
      "See the caveats in the documentation: https://pandas.pydata.org/pandas-docs/stable/user_guide/indexing.html#returning-a-view-versus-a-copy\n",
      "  df['Member'] = df['Member'].str.replace(' \\([0-9]\\)', '')\n",
      "/var/folders/8v/y2_25bgj5j52ndzgmk478vb80000gn/T/ipykernel_734/3793909653.py:7: FutureWarning: The frame.append method is deprecated and will be removed from pandas in a future version. Use pandas.concat instead.\n",
      "  final_df = final_df.append(df)\n"
     ]
    },
    {
     "name": "stdout",
     "output_type": "stream",
     "text": [
      "2016 Members' expense disclosure from 1 January to 31 March 2016.xlsx\n",
      "2021 Members' expense disclosure from 1 July to 30 September 2021.xlsx\n",
      "2015 Members' expense disclosure from 1 April to 30 June 2015.xlsx\n",
      "2018 Members' expense disclosure from 1 April to 30 June 2018.xlsx\n"
     ]
    }
   ],
   "source": [
    "for filename2 in os.listdir(\"Downloads/\"):\n",
    "    print(filename2)\n",
    "    if filename2.endswith(\".xlsx\") and filename2.startswith(\"2\"): \n",
    "         df = pd.read_excel ('Downloads/'+filename2, skiprows=2, header=[0,1])\n",
    "         df = append_quarter(filename2, df)\n",
    "         df = clean_df(df)\n",
    "         final_df = final_df.append(df)\n",
    "    else:\n",
    "        pass"
   ]
  },
  {
   "cell_type": "code",
   "execution_count": 159,
   "metadata": {},
   "outputs": [],
   "source": [
    "final_df.to_excel('test.xlsx')"
   ]
  },
  {
   "cell_type": "code",
   "execution_count": null,
   "metadata": {},
   "outputs": [],
   "source": []
  }
 ],
 "metadata": {
  "interpreter": {
   "hash": "aee8b7b246df8f9039afb4144a1f6fd8d2ca17a180786b69acc140d282b71a49"
  },
  "kernelspec": {
   "display_name": "Python 3.10.4 64-bit",
   "language": "python",
   "name": "python3"
  },
  "language_info": {
   "codemirror_mode": {
    "name": "ipython",
    "version": 3
   },
   "file_extension": ".py",
   "mimetype": "text/x-python",
   "name": "python",
   "nbconvert_exporter": "python",
   "pygments_lexer": "ipython3",
   "version": "3.10.4"
  },
  "orig_nbformat": 4
 },
 "nbformat": 4,
 "nbformat_minor": 2
}
