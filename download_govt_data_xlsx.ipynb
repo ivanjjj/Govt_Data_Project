{
 "cells": [
  {
   "cell_type": "code",
   "execution_count": 19,
   "metadata": {},
   "outputs": [],
   "source": [
    "# Modified from https://github.com/data-govt-nz/developers & updated for use with Python 3\n",
    "#!/usr/bin/env python\n",
    "from urllib.request import urlopen\n",
    "from urllib.request import urlretrieve\n",
    "\n",
    "import urllib.parse\n",
    "import urllib\n",
    "import json\n",
    "import pprint"
   ]
  },
  {
   "cell_type": "code",
   "execution_count": 2,
   "metadata": {},
   "outputs": [],
   "source": [
    "# Use the json module to dump a dictionary to a string for posting.\n",
    "data = urllib.parse.quote(json.dumps({'id': 'member-of-parliament-expenses'}))\n",
    "data = data.encode()"
   ]
  },
  {
   "cell_type": "code",
   "execution_count": 3,
   "metadata": {},
   "outputs": [],
   "source": [
    "# Make the HTTP POST request.\n",
    "response =  urlopen('https://catalogue.data.govt.nz/api/action/package_show', data)\n",
    "assert response.code == 200\n"
   ]
  },
  {
   "cell_type": "code",
   "execution_count": 4,
   "metadata": {},
   "outputs": [],
   "source": [
    "# Use the json module to load CKAN's response into a dictionary.\n",
    "response_dict = json.loads(response.read())"
   ]
  },
  {
   "cell_type": "code",
   "execution_count": 31,
   "metadata": {},
   "outputs": [
    {
     "data": {
      "text/plain": [
       "'https://catalogue.data.govt.nz/dataset/3e3238a7-e74f-4256-8979-07e609b83961/resource/5f229657-7093-48cf-93c9-ccf540739273/download/disclosure-of-members-expenses-from-1-october-to-31-december-2021-xlsx.xlsx'"
      ]
     },
     "execution_count": 31,
     "metadata": {},
     "output_type": "execute_result"
    }
   ],
   "source": [
    "# Check the contents of the response.\n",
    "assert response_dict['success'] is True\n",
    "result = response_dict['result']\n",
    "\n",
    "result.get('resources')[1]['url']"
   ]
  },
  {
   "cell_type": "code",
   "execution_count": 49,
   "metadata": {},
   "outputs": [
    {
     "name": "stdout",
     "output_type": "stream",
     "text": [
      "Downloading:  https://catalogue.data.govt.nz/dataset/3e3238a7-e74f-4256-8979-07e609b83961/resource/5f229657-7093-48cf-93c9-ccf540739273/download/disclosure-of-members-expenses-from-1-october-to-31-december-2021-xlsx.xlsx\n",
      "2021 Members' expense disclosure from 1 Oct to 30 Dec 2021\n",
      "https://catalogue.data.govt.nz/dataset/3e3238a7-e74f-4256-8979-07e609b83961/resource/5f229657-7093-48cf-93c9-ccf540739273/download/disclosure-of-members-expenses-from-1-october-to-31-december-2021-xlsx.xlsx\n",
      "Downloading:  https://catalogue.data.govt.nz/dataset/3e3238a7-e74f-4256-8979-07e609b83961/resource/a5387cb9-d3c4-4d5b-9bf2-cb9906f5b25c/download/2021-members-expense-disclosure-from-1-july-to-30-september-2021.xlsx\n",
      "2021 Members' expense disclosure from 1 July to 30 September 2021\n",
      "https://catalogue.data.govt.nz/dataset/3e3238a7-e74f-4256-8979-07e609b83961/resource/a5387cb9-d3c4-4d5b-9bf2-cb9906f5b25c/download/2021-members-expense-disclosure-from-1-july-to-30-september-2021.xlsx\n",
      "Downloading:  https://catalogue.data.govt.nz/dataset/3e3238a7-e74f-4256-8979-07e609b83961/resource/b3633be1-ecfa-4401-a178-56d8b16c148c/download/disclosure-of-members-expenses-from-1-april-to-30-june-2021-xlsx.xlsx\n",
      "2021 Members' expense disclosure from 1 April to 30 June 2021\n",
      "https://catalogue.data.govt.nz/dataset/3e3238a7-e74f-4256-8979-07e609b83961/resource/b3633be1-ecfa-4401-a178-56d8b16c148c/download/disclosure-of-members-expenses-from-1-april-to-30-june-2021-xlsx.xlsx\n",
      "Downloading:  https://catalogue.data.govt.nz/dataset/3e3238a7-e74f-4256-8979-07e609b83961/resource/daf5a332-d73e-4d4b-95f7-3dc6efd40e85/download/disclosure-of-members-expenses-from-1-january-to-31-march-2021-xlsx.xlsx\n",
      "2021 Members' expense disclosure from 1 January to 31 March 2021\n",
      "https://catalogue.data.govt.nz/dataset/3e3238a7-e74f-4256-8979-07e609b83961/resource/daf5a332-d73e-4d4b-95f7-3dc6efd40e85/download/disclosure-of-members-expenses-from-1-january-to-31-march-2021-xlsx.xlsx\n",
      "Downloading:  https://catalogue.data.govt.nz/dataset/3e3238a7-e74f-4256-8979-07e609b83961/resource/81ae2c1e-e268-4f8f-93d5-08678a76945b/download/disclosure-of-members-expenses-from-1-october-to-31-december-2020-xlsx.xlsx\n",
      "2020 Members' expense disclosures from 1 October to 31 December\n",
      "https://catalogue.data.govt.nz/dataset/3e3238a7-e74f-4256-8979-07e609b83961/resource/81ae2c1e-e268-4f8f-93d5-08678a76945b/download/disclosure-of-members-expenses-from-1-october-to-31-december-2020-xlsx.xlsx\n",
      "Downloading:  https://catalogue.data.govt.nz/dataset/3e3238a7-e74f-4256-8979-07e609b83961/resource/a8bcc66b-5e25-47a4-a079-3cd9d97734d4/download/disclosure-of-members-expenses-from-1-july-to-30-september-2020.xlsx\n",
      "2020 Members' expense disclosure from 1 July to 30 September\n",
      "https://catalogue.data.govt.nz/dataset/3e3238a7-e74f-4256-8979-07e609b83961/resource/a8bcc66b-5e25-47a4-a079-3cd9d97734d4/download/disclosure-of-members-expenses-from-1-july-to-30-september-2020.xlsx\n",
      "Downloading:  https://catalogue.data.govt.nz/dataset/3e3238a7-e74f-4256-8979-07e609b83961/resource/73d06007-0c4a-47e4-9b80-de66743a8438/download/disclosure-of-members-expenses-from-1-april-to-30-june-2020.xlsx\n",
      "2020 Members' expense disclosure from 1 April to 30 June 2020\n",
      "https://catalogue.data.govt.nz/dataset/3e3238a7-e74f-4256-8979-07e609b83961/resource/73d06007-0c4a-47e4-9b80-de66743a8438/download/disclosure-of-members-expenses-from-1-april-to-30-june-2020.xlsx\n",
      "Downloading:  https://www.parliament.nz/media/6465/disclosure-of-members-expenses-from-1-january-to-31-march-2020.xlsx\n",
      "2020 Members' expense disclosure from 1 January to 31 March\n",
      "https://www.parliament.nz/media/6465/disclosure-of-members-expenses-from-1-january-to-31-march-2020.xlsx\n",
      "Downloading:  https://www.parliament.nz/media/6280/disclosure-of-members-expenses-from-1-october-to-31-december-2019.xlsx\n",
      "2019 Members' expense disclosure from 1 October to 31 December\n",
      "https://www.parliament.nz/media/6280/disclosure-of-members-expenses-from-1-october-to-31-december-2019.xlsx\n",
      "Downloading:  https://catalogue.data.govt.nz/dataset/3e3238a7-e74f-4256-8979-07e609b83961/resource/2bfd169a-cc16-4a91-a24c-3a035d9b8894/download/disclosure-of-members-expenses-from-1-july-to-30-september-2019-1.xlsx\n",
      "2019 Members' expense disclosure 1 July to 30 September\n",
      "https://catalogue.data.govt.nz/dataset/3e3238a7-e74f-4256-8979-07e609b83961/resource/2bfd169a-cc16-4a91-a24c-3a035d9b8894/download/disclosure-of-members-expenses-from-1-july-to-30-september-2019-1.xlsx\n",
      "Downloading:  https://catalogue.data.govt.nz/dataset/3e3238a7-e74f-4256-8979-07e609b83961/resource/b052e2db-3aca-42ef-83fe-9f04bfeca090/download/disclosure-of-members-expenses-from-1-april-to-30-june-2019.xlsx\n",
      "2019 Members' expenses disclosure 1 April to 30 June\n",
      "https://catalogue.data.govt.nz/dataset/3e3238a7-e74f-4256-8979-07e609b83961/resource/b052e2db-3aca-42ef-83fe-9f04bfeca090/download/disclosure-of-members-expenses-from-1-april-to-30-june-2019.xlsx\n",
      "Downloading:  https://catalogue.data.govt.nz/dataset/3e3238a7-e74f-4256-8979-07e609b83961/resource/93ab8053-b3b5-4d4e-b58d-4d8f35b90e88/download/disclosure-of-members-expenses-from-1-january-to-31-march-2019.xlsx\n",
      "2019 Members' expenses disclosure 1 January to 31 March\n",
      "https://catalogue.data.govt.nz/dataset/3e3238a7-e74f-4256-8979-07e609b83961/resource/93ab8053-b3b5-4d4e-b58d-4d8f35b90e88/download/disclosure-of-members-expenses-from-1-january-to-31-march-2019.xlsx\n",
      "Downloading:  https://catalogue.data.govt.nz/dataset/3e3238a7-e74f-4256-8979-07e609b83961/resource/0a2f15c1-3461-4478-af75-14aa38184a50/download/disclosure-of-members-expenses-from-1-october-to-31-december-2018.xlsx\n",
      "2018 Members' expense disclosure from 1 October to 31 December 2018\n",
      "https://catalogue.data.govt.nz/dataset/3e3238a7-e74f-4256-8979-07e609b83961/resource/0a2f15c1-3461-4478-af75-14aa38184a50/download/disclosure-of-members-expenses-from-1-october-to-31-december-2018.xlsx\n",
      "Downloading:  https://catalogue.data.govt.nz/dataset/3e3238a7-e74f-4256-8979-07e609b83961/resource/821dbdd6-39b1-4b7e-8915-471694d5379c/download/disclosure-of-members-expenses-from-1-july-to-30-september-2018.xlsx\n",
      "2018 Members' expense disclosure from 1 July to 30 September 2018\n",
      "https://catalogue.data.govt.nz/dataset/3e3238a7-e74f-4256-8979-07e609b83961/resource/821dbdd6-39b1-4b7e-8915-471694d5379c/download/disclosure-of-members-expenses-from-1-july-to-30-september-2018.xlsx\n",
      "Downloading:  https://catalogue.data.govt.nz/dataset/3e3238a7-e74f-4256-8979-07e609b83961/resource/5c503ca5-6100-4122-b6b3-af848169d553/download/disclosure-of-members-expenses-from-1-april-to-30-june-2018.xlsx\n",
      "2018 Members' expense disclosure from 1 April to 30 June 2018\n",
      "https://catalogue.data.govt.nz/dataset/3e3238a7-e74f-4256-8979-07e609b83961/resource/5c503ca5-6100-4122-b6b3-af848169d553/download/disclosure-of-members-expenses-from-1-april-to-30-june-2018.xlsx\n",
      "Downloading:  https://catalogue.data.govt.nz/dataset/3e3238a7-e74f-4256-8979-07e609b83961/resource/f518e364-4c6a-441a-b87e-6256fb3ad2c1/download/disclosure-of-members-expenses-from-1-january-to-31-march-2018.xlsx\n",
      "2018 Members' expense disclosure from 1 January to 31 March 2018\n",
      "https://catalogue.data.govt.nz/dataset/3e3238a7-e74f-4256-8979-07e609b83961/resource/f518e364-4c6a-441a-b87e-6256fb3ad2c1/download/disclosure-of-members-expenses-from-1-january-to-31-march-2018.xlsx\n",
      "Downloading:  https://www.parliament.nz/media/4248/members-expense-disclosure-1-april-to-30-june-2017.xlsx\n",
      "2017 Members' expense disclosure from 1 April to 30 June 2017\n",
      "https://www.parliament.nz/media/4248/members-expense-disclosure-1-april-to-30-june-2017.xlsx\n",
      "Downloading:  https://www.parliament.nz/media/3089/members-expense-disclosure-july-september-2016.xlsx\n",
      "2016 Members' expense disclosure from 1 July to 30 September 2016\n",
      "https://www.parliament.nz/media/3089/members-expense-disclosure-july-september-2016.xlsx\n",
      "Downloading:  https://www.parliament.nz/media/2924/members-expense-disclosure-1-april-to-30-june-2016.xlsx\n",
      "2016 Members' expense disclosure from 1 April to 30 June 2016\n",
      "https://www.parliament.nz/media/2924/members-expense-disclosure-1-april-to-30-june-2016.xlsx\n",
      "Downloading:  https://www.parliament.nz/media/2696/members-expense-disclosure-1-january-to-31-march-2016-xlsx-24k.xlsx\n",
      "2016 Members' expense disclosure from 1 January to 31 March 2016\n",
      "https://www.parliament.nz/media/2696/members-expense-disclosure-1-january-to-31-march-2016-xlsx-24k.xlsx\n",
      "Downloading:  https://www.parliament.nz/media/2634/disclosure-of-members-expenses-1-october-to-31-december-2015-xlsx-24k-2.xlsx\n",
      "2015 Members' expense disclosure from 1 October to 31 December 2015\n",
      "https://www.parliament.nz/media/2634/disclosure-of-members-expenses-1-october-to-31-december-2015-xlsx-24k-2.xlsx\n",
      "Downloading:  https://www.parliament.nz/media/1415/disclosure-of-members-expenses-1-july-to-30-september-2015.xlsx\n",
      "2015 Members' expense disclosure from 1 July to 30 September 2015\n",
      "https://www.parliament.nz/media/1415/disclosure-of-members-expenses-1-july-to-30-september-2015.xlsx\n",
      "Downloading:  https://www.parliament.nz/media/1417/disclosure-of-members-expenses-1-april-to-30-june-2015.xlsx\n",
      "2015 Members' expense disclosure from 1 April to 30 June 2015\n",
      "https://www.parliament.nz/media/1417/disclosure-of-members-expenses-1-april-to-30-june-2015.xlsx\n",
      "Done\n"
     ]
    }
   ],
   "source": [
    "# Download all xlsx resources and save in folder\n",
    "from os.path import exists\n",
    "\n",
    "opener = urllib.request.build_opener()\n",
    "opener.addheaders = [('User-Agent', 'Download_Data/1.0')]\n",
    "urllib.request.install_opener(opener)\n",
    "\n",
    "try:\n",
    "    for x in result.get('resources'):\n",
    "        if(x['format'] == 'XLSX'):\n",
    "            if(exists(x['name'])):\n",
    "                pass\n",
    "            else:\n",
    "                print('Downloading: ', x['url'])\n",
    "                filename = str(x['name'])\n",
    "                print(filename)\n",
    "                print(x['url'])\n",
    "                try:\n",
    "                    urllib.request.urlretrieve(x['url'], filename)\n",
    "                except:\n",
    "                    print(\"Download Error\")\n",
    "        else:\n",
    "            pass\n",
    "    print(\"Done\")\n",
    "except:\n",
    "    print(\"Error: Download Incomplete\")\n",
    "             "
   ]
  },
  {
   "cell_type": "code",
   "execution_count": null,
   "metadata": {},
   "outputs": [],
   "source": []
  }
 ],
 "metadata": {
  "interpreter": {
   "hash": "aee8b7b246df8f9039afb4144a1f6fd8d2ca17a180786b69acc140d282b71a49"
  },
  "kernelspec": {
   "display_name": "Python 3.10.4 64-bit",
   "language": "python",
   "name": "python3"
  },
  "language_info": {
   "codemirror_mode": {
    "name": "ipython",
    "version": 3
   },
   "file_extension": ".py",
   "mimetype": "text/x-python",
   "name": "python",
   "nbconvert_exporter": "python",
   "pygments_lexer": "ipython3",
   "version": "3.10.4"
  },
  "orig_nbformat": 4
 },
 "nbformat": 4,
 "nbformat_minor": 2
}
