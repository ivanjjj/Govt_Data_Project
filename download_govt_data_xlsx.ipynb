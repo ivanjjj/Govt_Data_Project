{
 "cells": [
  {
   "cell_type": "code",
   "execution_count": 5,
   "metadata": {},
   "outputs": [],
   "source": [
    "# Modified from https://github.com/data-govt-nz/developers & updated for use with Python 3\n",
    "#!/usr/bin/env python\n",
    "from urllib.request import urlopen\n",
    "import urllib.parse\n",
    "import urllib\n",
    "import json\n",
    "import pprint"
   ]
  },
  {
   "cell_type": "code",
   "execution_count": 6,
   "metadata": {},
   "outputs": [],
   "source": [
    "# Use the json module to dump a dictionary to a string for posting.\n",
    "data = urllib.parse.quote(json.dumps({'id': 'member-of-parliament-expenses'}))\n",
    "data = data.encode()"
   ]
  },
  {
   "cell_type": "code",
   "execution_count": 7,
   "metadata": {},
   "outputs": [],
   "source": [
    "# Make the HTTP POST request.\n",
    "\n",
    "response =  urlopen('https://catalogue.data.govt.nz/api/action/package_show', data)\n",
    "\n",
    "assert response.code == 200\n"
   ]
  },
  {
   "cell_type": "code",
   "execution_count": 8,
   "metadata": {},
   "outputs": [],
   "source": [
    "# Use the json module to load CKAN's response into a dictionary.\n",
    "response_dict = json.loads(response.read())"
   ]
  },
  {
   "cell_type": "code",
   "execution_count": 9,
   "metadata": {},
   "outputs": [],
   "source": [
    "# Check the contents of the response.\n",
    "assert response_dict['success'] is True\n",
    "result = response_dict['result']"
   ]
  },
  {
   "cell_type": "code",
   "execution_count": 19,
   "metadata": {},
   "outputs": [
    {
     "name": "stdout",
     "output_type": "stream",
     "text": [
      "Downloading:  https://www.parliament.nz/en/mps-and-electorates/mps-expenses/members-expense-disclosure-from-1-october-to-31-december-2021/\n",
      "Error: Download Incomplete\n"
     ]
    }
   ],
   "source": [
    "# Download all xlsx resources and save in folder\n",
    "from os.path import exists\n",
    "try:\n",
    "    for x in result.get('resources'):\n",
    "        if(x['format'] == 'XLSX'):\n",
    "            if(exists(x['name'])):\n",
    "                pass\n",
    "        else:\n",
    "            print('Downloading: ', x['url'])\n",
    "            filename = str(x['name'])\n",
    "            urllib.request.urlretrieve(x['url'], filename)\n",
    "    print(\"Done\")\n",
    "except:\n",
    "    print(\"Error: Download Incomplete\")\n",
    "             "
   ]
  },
  {
   "cell_type": "code",
   "execution_count": null,
   "metadata": {},
   "outputs": [],
   "source": []
  }
 ],
 "metadata": {
  "interpreter": {
   "hash": "aee8b7b246df8f9039afb4144a1f6fd8d2ca17a180786b69acc140d282b71a49"
  },
  "kernelspec": {
   "display_name": "Python 3.10.4 64-bit",
   "language": "python",
   "name": "python3"
  },
  "language_info": {
   "codemirror_mode": {
    "name": "ipython",
    "version": 3
   },
   "file_extension": ".py",
   "mimetype": "text/x-python",
   "name": "python",
   "nbconvert_exporter": "python",
   "pygments_lexer": "ipython3",
   "version": "3.10.4"
  },
  "orig_nbformat": 4
 },
 "nbformat": 4,
 "nbformat_minor": 2
}
