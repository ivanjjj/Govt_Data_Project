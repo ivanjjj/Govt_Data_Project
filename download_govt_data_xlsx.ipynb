{
 "cells": [
  {
   "cell_type": "code",
   "execution_count": 1,
   "metadata": {},
   "outputs": [],
   "source": [
    "# Modified from https://github.com/data-govt-nz/developers & updated for use with Python 3\n",
    "#!/usr/bin/env python\n",
    "from urllib.request import urlopen\n",
    "from urllib.request import urlretrieve\n",
    "\n",
    "import urllib.parse\n",
    "import urllib\n",
    "import json\n",
    "import pprint\n",
    "\n",
    "from os.path import exists\n",
    "from os import mkdir"
   ]
  },
  {
   "cell_type": "code",
   "execution_count": 2,
   "metadata": {},
   "outputs": [],
   "source": [
    "# Use the json module to dump a dictionary to a string for posting.\n",
    "data = urllib.parse.quote(json.dumps({'id': 'member-of-parliament-expenses'}))\n",
    "data = data.encode()"
   ]
  },
  {
   "cell_type": "code",
   "execution_count": 3,
   "metadata": {},
   "outputs": [],
   "source": [
    "# Make the HTTP POST request.\n",
    "response =  urlopen('https://catalogue.data.govt.nz/api/action/package_show', data)\n",
    "assert response.code == 200\n"
   ]
  },
  {
   "cell_type": "code",
   "execution_count": 4,
   "metadata": {},
   "outputs": [],
   "source": [
    "# Use the json module to load CKAN's response into a dictionary.\n",
    "response_dict = json.loads(response.read())"
   ]
  },
  {
   "cell_type": "code",
   "execution_count": 5,
   "metadata": {},
   "outputs": [],
   "source": [
    "# Check the contents of the response.\n",
    "assert response_dict['success'] is True\n",
    "result = response_dict['result']"
   ]
  },
  {
   "cell_type": "code",
   "execution_count": 41,
   "metadata": {},
   "outputs": [
    {
     "name": "stdout",
     "output_type": "stream",
     "text": [
      "Downloading:  https://catalogue.data.govt.nz/dataset/3e3238a7-e74f-4256-8979-07e609b83961/resource/860d5466-3b47-4d1b-9e5f-25c627b49bf3/download/members-expense-disclosure-from-1-october-to-31-december-2017.xlsx\n",
      "2017 Members' expense disclosure from 1 January to 31 March 2017\n",
      "https://catalogue.data.govt.nz/dataset/3e3238a7-e74f-4256-8979-07e609b83961/resource/860d5466-3b47-4d1b-9e5f-25c627b49bf3/download/members-expense-disclosure-from-1-october-to-31-december-2017.xlsx\n",
      "Downloading:  https://www.parliament.nz/media/4490/members-expense-disclosure-1-july-to-30-september-2017.xlsx\n",
      "2017 Members' expense disclosure from 1 July to 30 September 2017\n",
      "https://www.parliament.nz/media/4490/members-expense-disclosure-1-july-to-30-september-2017.xlsx\n",
      "Done\n"
     ]
    }
   ],
   "source": [
    "# Download all xlsx resources and save in folder\n",
    "\n",
    "\n",
    "if(exists(\"Downloads\")):\n",
    "    pass\n",
    "else:\n",
    "    os.mkdir(\"Downloads\")\n",
    "opener = urllib.request.build_opener()\n",
    "opener.addheaders = [('User-Agent', 'Download_Data/1.0')]\n",
    "urllib.request.install_opener(opener)\n",
    "\n",
    "try:\n",
    "    for x in result.get('resources'):\n",
    "        if(x['format'] == 'XLSX' or x['format'] ==  '.xlsx'):\n",
    "            if(exists(\"Downloads/\" + x['name'] + '.xlsx')):\n",
    "                pass\n",
    "            else:\n",
    "                print('Downloading: ', x['url'])\n",
    "                filename = x['name']\n",
    "                print(filename)\n",
    "                print(x['url'])\n",
    "                try:\n",
    "                    urllib.request.urlretrieve(x['url'], 'Downloads/' + filename + '.xlsx')\n",
    "                except:\n",
    "                    print(\"Download Error\")\n",
    "        else:\n",
    "            pass\n",
    "    print(\"Done\")\n",
    "except:\n",
    "    print(\"Error: Download Incomplete\")\n",
    "             "
   ]
  },
  {
   "cell_type": "code",
   "execution_count": null,
   "metadata": {},
   "outputs": [],
   "source": []
  }
 ],
 "metadata": {
  "interpreter": {
   "hash": "aee8b7b246df8f9039afb4144a1f6fd8d2ca17a180786b69acc140d282b71a49"
  },
  "kernelspec": {
   "display_name": "Python 3.10.4 64-bit",
   "language": "python",
   "name": "python3"
  },
  "language_info": {
   "codemirror_mode": {
    "name": "ipython",
    "version": 3
   },
   "file_extension": ".py",
   "mimetype": "text/x-python",
   "name": "python",
   "nbconvert_exporter": "python",
   "pygments_lexer": "ipython3",
   "version": "3.10.4"
  },
  "orig_nbformat": 4
 },
 "nbformat": 4,
 "nbformat_minor": 2
}
